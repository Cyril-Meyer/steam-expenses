{
 "cells": [
  {
   "cell_type": "code",
   "execution_count": 1,
   "id": "c08ceac9-1daa-41e7-b017-fee9061afb77",
   "metadata": {},
   "outputs": [],
   "source": [
    "import pandas as pd\n",
    "pd.options.mode.chained_assignment = None"
   ]
  },
  {
   "cell_type": "code",
   "execution_count": 2,
   "id": "9d878677-305b-4d70-b254-7b4f6f6cb7de",
   "metadata": {},
   "outputs": [],
   "source": [
    "pd.set_option('display.max_rows', 10000)\n",
    "pd.set_option('display.max_colwidth', 80)"
   ]
  },
  {
   "cell_type": "code",
   "execution_count": 3,
   "id": "278f6c0b-f719-4018-af5b-7e27102d9afb",
   "metadata": {},
   "outputs": [
    {
     "data": {
      "text/html": [
       "<div>\n",
       "<style scoped>\n",
       "    .dataframe tbody tr th:only-of-type {\n",
       "        vertical-align: middle;\n",
       "    }\n",
       "\n",
       "    .dataframe tbody tr th {\n",
       "        vertical-align: top;\n",
       "    }\n",
       "\n",
       "    .dataframe thead th {\n",
       "        text-align: right;\n",
       "    }\n",
       "</style>\n",
       "<table border=\"1\" class=\"dataframe\">\n",
       "  <thead>\n",
       "    <tr style=\"text-align: right;\">\n",
       "      <th></th>\n",
       "      <th>Unnamed: 0</th>\n",
       "      <th>Date</th>\n",
       "      <th>Articles</th>\n",
       "      <th>Type</th>\n",
       "      <th>Total</th>\n",
       "      <th>Chgmt</th>\n",
       "      <th>Solde</th>\n",
       "    </tr>\n",
       "  </thead>\n",
       "  <tbody>\n",
       "  </tbody>\n",
       "</table>\n",
       "</div>"
      ],
      "text/plain": [
       "Empty DataFrame\n",
       "Columns: [Unnamed: 0, Date, Articles, Type, Total, Chgmt, Solde]\n",
       "Index: []"
      ]
     },
     "execution_count": 3,
     "metadata": {},
     "output_type": "execute_result"
    }
   ],
   "source": [
    "df = pd.read_csv('account_history.csv')\n",
    "df.head(0)"
   ]
  },
  {
   "cell_type": "code",
   "execution_count": 4,
   "id": "8fee220e-1f30-401c-ac3f-e90f9d9521ac",
   "metadata": {},
   "outputs": [],
   "source": [
    "df.Total[df.Total.str.contains('Crédité')] = '-' + df[df.Total.str.contains('Crédité')].Total\n",
    "df.Total = df.Total.str.replace(' Crédité', '')\n",
    "df.Total = df.Total.str.replace(',--',',00')\n",
    "df.Total = df.Total.str.replace(',','.').str.replace('€','').astype(float)\n",
    "\n",
    "df.Chgmt = df.Chgmt.str.replace(',--',',00')\n",
    "df.Chgmt = df.Chgmt.str.replace(',','.').str.replace('€','').astype(float)\n",
    "df.Solde = df.Solde.str.replace(',--',',00')\n",
    "df.Solde = df.Solde.str.replace(',','.').str.replace('€','').astype(float)"
   ]
  },
  {
   "cell_type": "code",
   "execution_count": 5,
   "id": "27b8c67b-2abd-42f2-9c4c-296cdfe852ef",
   "metadata": {},
   "outputs": [
    {
     "data": {
      "text/plain": [
       "1713.0699999999997"
      ]
     },
     "execution_count": 5,
     "metadata": {},
     "output_type": "execute_result"
    }
   ],
   "source": [
    "# Total\n",
    "df.Total.sum()"
   ]
  },
  {
   "cell_type": "code",
   "execution_count": 6,
   "id": "87d09cb3-7705-4116-b925-48568c81cb4f",
   "metadata": {},
   "outputs": [
    {
     "data": {
      "text/plain": [
       "503.51"
      ]
     },
     "execution_count": 6,
     "metadata": {},
     "output_type": "execute_result"
    }
   ],
   "source": [
    "# Counter-Strike: Global Offensive\n",
    "df[df.Articles.str.contains('Counter-Strike: Global Offensive')].Total.sum()"
   ]
  },
  {
   "cell_type": "code",
   "execution_count": 7,
   "id": "46c8c829-97aa-41c3-8497-a3844004d556",
   "metadata": {},
   "outputs": [
    {
     "data": {
      "text/plain": [
       "-100.94999999999999"
      ]
     },
     "execution_count": 7,
     "metadata": {},
     "output_type": "execute_result"
    }
   ],
   "source": [
    "# Ventes / Achat sur le marché\n",
    "df[df.Type.str.contains('transactions sur le marché')].Total.sum() + df[df.Type.str.contains('Transaction sur le marché')].Total.sum()"
   ]
  },
  {
   "cell_type": "code",
   "execution_count": 8,
   "id": "62ead0a1-f3b8-4d8c-9285-8e18e203657d",
   "metadata": {},
   "outputs": [],
   "source": [
    "pd.reset_option('display.max_rows')\n",
    "pd.reset_option('display.max_colwidth')"
   ]
  },
  {
   "cell_type": "code",
   "execution_count": null,
   "id": "1e71efb7-48a7-48f1-8f19-79fda5e46181",
   "metadata": {},
   "outputs": [],
   "source": []
  }
 ],
 "metadata": {
  "kernelspec": {
   "display_name": "Python 3 (ipykernel)",
   "language": "python",
   "name": "python3"
  },
  "language_info": {
   "codemirror_mode": {
    "name": "ipython",
    "version": 3
   },
   "file_extension": ".py",
   "mimetype": "text/x-python",
   "name": "python",
   "nbconvert_exporter": "python",
   "pygments_lexer": "ipython3",
   "version": "3.7.9"
  }
 },
 "nbformat": 4,
 "nbformat_minor": 5
}
